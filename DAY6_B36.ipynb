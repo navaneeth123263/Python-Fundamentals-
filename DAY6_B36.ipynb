{
 "cells": [
  {
   "cell_type": "code",
   "execution_count": 20,
   "metadata": {},
   "outputs": [
    {
     "name": "stdout",
     "output_type": "stream",
     "text": [
      "['Faiyaz', 'Muthu', 'venu']\n"
     ]
    }
   ],
   "source": [
    "my_guru= ['Faiyaz', 'Muthu', 'venu']\n",
    "print(my_guru)"
   ]
  },
  {
   "cell_type": "code",
   "execution_count": 22,
   "metadata": {},
   "outputs": [
    {
     "name": "stdout",
     "output_type": "stream",
     "text": [
      "Thank you so much for your excellent teaching Sir, Faiyaz\n"
     ]
    }
   ],
   "source": [
    "print(f\"Thank you so much for your excellent teaching Sir, {my_guru[0].title()}\")"
   ]
  },
  {
   "cell_type": "code",
   "execution_count": null,
   "metadata": {},
   "outputs": [],
   "source": [
    "students = ['monika','aravind','suresh','navaneetha krishnan','venu gopal']\n",
    "print(students)"
   ]
  },
  {
   "cell_type": "code",
   "execution_count": 2,
   "metadata": {
    "scrolled": true
   },
   "outputs": [
    {
     "data": {
      "text/plain": [
       "list"
      ]
     },
     "execution_count": 2,
     "metadata": {},
     "output_type": "execute_result"
    }
   ],
   "source": [
    "type(students)"
   ]
  },
  {
   "cell_type": "code",
   "execution_count": 8,
   "metadata": {},
   "outputs": [
    {
     "name": "stdout",
     "output_type": "stream",
     "text": [
      "keep up the good work, Navaneetha Krishnan\n"
     ]
    }
   ],
   "source": [
    "print(f\"keep up the good work, {students[3].title()}\")"
   ]
  },
  {
   "cell_type": "code",
   "execution_count": 11,
   "metadata": {},
   "outputs": [
    {
     "name": "stdout",
     "output_type": "stream",
     "text": [
      "keep up the good work, Venu Gopal\n"
     ]
    }
   ],
   "source": [
    "print(f\"keep up the good work, {students[4].title()}\")"
   ]
  },
  {
   "cell_type": "code",
   "execution_count": 12,
   "metadata": {},
   "outputs": [
    {
     "name": "stdout",
     "output_type": "stream",
     "text": [
      "keep up the good work, Monika\n"
     ]
    }
   ],
   "source": [
    "print(f\"keep up the good work, {students[0].title()}\")"
   ]
  },
  {
   "cell_type": "code",
   "execution_count": null,
   "metadata": {},
   "outputs": [],
   "source": [
    "how appreciate the participants in single slot itself:-\n",
    "for loop formula:"
   ]
  },
  {
   "cell_type": "code",
   "execution_count": null,
   "metadata": {},
   "outputs": [],
   "source": [
    "for loop:\n",
    "    for tempvar in mainvar:\n",
    "    print(tempvar)"
   ]
  },
  {
   "cell_type": "code",
   "execution_count": 13,
   "metadata": {},
   "outputs": [
    {
     "name": "stdout",
     "output_type": "stream",
     "text": [
      "keep up the good work, Monika\n",
      "keep up the good work, Aravind\n",
      "keep up the good work, Suresh\n",
      "keep up the good work, Navaneetha Krishnan\n",
      "keep up the good work, Venu Gopal\n"
     ]
    }
   ],
   "source": [
    "for x in students:\n",
    "    print(f\"keep up the good work, {x.title()}\")"
   ]
  },
  {
   "cell_type": "code",
   "execution_count": 14,
   "metadata": {},
   "outputs": [
    {
     "name": "stdout",
     "output_type": "stream",
     "text": [
      "keep up the good work, Monika\n",
      "keep up the good work, Aravind\n",
      "keep up the good work, Suresh\n",
      "keep up the good work, Navaneetha Krishnan\n",
      "keep up the good work, Venu Gopal\n"
     ]
    }
   ],
   "source": [
    "for my_class in students:\n",
    "    print(f\"keep up the good work, { my_class.title()}\")"
   ]
  },
  {
   "cell_type": "code",
   "execution_count": 16,
   "metadata": {},
   "outputs": [
    {
     "name": "stdout",
     "output_type": "stream",
     "text": [
      "keep up the good work, Monika\n",
      "looking forward to receive the github urls of today,Monika\n",
      "keep up the good work, Aravind\n",
      "looking forward to receive the github urls of today,Aravind\n",
      "keep up the good work, Suresh\n",
      "looking forward to receive the github urls of today,Suresh\n",
      "keep up the good work, Navaneetha Krishnan\n",
      "looking forward to receive the github urls of today,Navaneetha Krishnan\n",
      "keep up the good work, Venu Gopal\n",
      "looking forward to receive the github urls of today,Venu Gopal\n"
     ]
    }
   ],
   "source": [
    "for my_class in students:\n",
    "    print(f\"keep up the good work, { my_class.title()}\")\n",
    "    print(f\"looking forward to receive the github urls of today,{my_class.title()}\")"
   ]
  },
  {
   "cell_type": "code",
   "execution_count": 17,
   "metadata": {},
   "outputs": [
    {
     "name": "stdout",
     "output_type": "stream",
     "text": [
      "keep up the good work, Monika\n",
      "looking forward to receive the github urls of today,Monika\n",
      "\n",
      "keep up the good work, Aravind\n",
      "looking forward to receive the github urls of today,Aravind\n",
      "\n",
      "keep up the good work, Suresh\n",
      "looking forward to receive the github urls of today,Suresh\n",
      "\n",
      "keep up the good work, Navaneetha Krishnan\n",
      "looking forward to receive the github urls of today,Navaneetha Krishnan\n",
      "\n",
      "keep up the good work, Venu Gopal\n",
      "looking forward to receive the github urls of today,Venu Gopal\n",
      "\n"
     ]
    }
   ],
   "source": [
    "for my_class in students:\n",
    "    print(f\"keep up the good work, { my_class.title()}\")\n",
    "    print(f\"looking forward to receive the github urls of today,{my_class.title()}\\n\")"
   ]
  },
  {
   "cell_type": "code",
   "execution_count": 18,
   "metadata": {},
   "outputs": [
    {
     "name": "stdout",
     "output_type": "stream",
     "text": [
      "keep up the good work, Monika\n",
      "looking forward to receive the github urls of today,Monika\n",
      "\n",
      "keep up the good work, Aravind\n",
      "looking forward to receive the github urls of today,Aravind\n",
      "\n",
      "keep up the good work, Suresh\n",
      "looking forward to receive the github urls of today,Suresh\n",
      "\n",
      "keep up the good work, Navaneetha Krishnan\n",
      "looking forward to receive the github urls of today,Navaneetha Krishnan\n",
      "\n",
      "keep up the good work, Venu Gopal\n",
      "looking forward to receive the github urls of today,Venu Gopal\n",
      "\n",
      " THANK YOU ALL FOR SHOWING INTREST IN LEARNING PYTHON\n"
     ]
    }
   ],
   "source": [
    "for my_class in students:\n",
    "    print(f\"keep up the good work, { my_class.title()}\")\n",
    "    print(f\"looking forward to receive the github urls of today,{my_class.title()}\\n\")\n",
    "print(\" THANK YOU ALL FOR SHOWING INTREST IN LEARNING PYTHON\")"
   ]
  },
  {
   "cell_type": "code",
   "execution_count": null,
   "metadata": {},
   "outputs": [],
   "source": []
  }
 ],
 "metadata": {
  "kernelspec": {
   "display_name": "Python 3",
   "language": "python",
   "name": "python3"
  },
  "language_info": {
   "codemirror_mode": {
    "name": "ipython",
    "version": 3
   },
   "file_extension": ".py",
   "mimetype": "text/x-python",
   "name": "python",
   "nbconvert_exporter": "python",
   "pygments_lexer": "ipython3",
   "version": "3.8.5"
  }
 },
 "nbformat": 4,
 "nbformat_minor": 4
}
